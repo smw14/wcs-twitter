{
 "cells": [
  {
   "cell_type": "code",
   "execution_count": 1,
   "id": "95b04fde-0e02-493c-b9c1-bdda8201d413",
   "metadata": {},
   "outputs": [
    {
     "name": "stdout",
     "output_type": "stream",
     "text": [
      "Hello, World\n"
     ]
    }
   ],
   "source": [
    "print(\"Hello, World\")"
   ]
  },
  {
   "cell_type": "code",
   "execution_count": null,
   "id": "3ef615f7-25cf-48d2-97e8-7c9b2af41a58",
   "metadata": {},
   "outputs": [],
   "source": [
    "print(\"Test Git\")"
   ]
  },
  {
   "cell_type": "code",
   "execution_count": null,
   "id": "8a1da0ed-efa7-40d9-85df-1174d5e00e05",
   "metadata": {},
   "outputs": [],
   "source": [
    "# pandas, matplotlib, numpy, seaborn\n",
    "# import databases as dataframes\n",
    "\n",
    "# regex to remove the t.co links\n",
    "\n",
    "# expoloratory data analysis -> find the most popular tweets (company wise), when the tweets were published\n",
    "# basic facts on databse: number of unique companies mentioned, number of tweets"
   ]
  },
  {
   "cell_type": "code",
   "execution_count": null,
   "id": "1a5f1494-d417-4e3a-9add-421456b5ff2f",
   "metadata": {},
   "outputs": [],
   "source": []
  },
  {
   "cell_type": "code",
   "execution_count": null,
   "id": "2867e699-1415-4c33-8008-cbb632089ce9",
   "metadata": {},
   "outputs": [],
   "source": []
  },
  {
   "cell_type": "code",
   "execution_count": null,
   "id": "369c5db6-1b12-440f-8d42-bbfd6b280f85",
   "metadata": {},
   "outputs": [],
   "source": []
  },
  {
   "cell_type": "code",
   "execution_count": null,
   "id": "4240c9ab-3ab1-4270-8864-a1018df71318",
   "metadata": {},
   "outputs": [],
   "source": []
  }
 ],
 "metadata": {
  "kernelspec": {
   "display_name": "Python 3 (ipykernel)",
   "language": "python",
   "name": "python3"
  },
  "language_info": {
   "codemirror_mode": {
    "name": "ipython",
    "version": 3
   },
   "file_extension": ".py",
   "mimetype": "text/x-python",
   "name": "python",
   "nbconvert_exporter": "python",
   "pygments_lexer": "ipython3",
   "version": "3.12.1"
  }
 },
 "nbformat": 4,
 "nbformat_minor": 5
}
